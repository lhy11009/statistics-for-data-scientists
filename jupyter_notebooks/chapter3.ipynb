{
 "cells": [
  {
   "cell_type": "markdown",
   "metadata": {},
   "source": [
    "## Chapter 3: Statistical Experiments and Significance Testing"
   ]
  },
  {
   "cell_type": "code",
   "execution_count": null,
   "metadata": {
    "vscode": {
     "languageId": "r"
    }
   },
   "outputs": [],
   "source": [
    "# load libraies\n",
    "list.of.packages <- c(\"dplyr\", \"ggplot2\", \"lmPerm\")\n",
    "new.packages <- list.of.packages[!(list.of.packages %in% installed.packages()[,\"Package\"])]\n",
    "if(length(new.packages)) install.packages(new.packages)\n",
    "\n",
    "library(ggplot2)\n",
    "library(dplyr)\n",
    "library(lmPerm)"
   ]
  },
  {
   "cell_type": "code",
   "execution_count": null,
   "metadata": {
    "vscode": {
     "languageId": "r"
    }
   },
   "outputs": [],
   "source": [
    "# read data\n",
    "\n",
    "PSDS_PATH <- file.path('~/Desktop', 'statistics-for-data-scientists')\n",
    "\n",
    "session_times <- read.csv(file.path(PSDS_PATH, 'data', 'web_page_data.csv'))\n",
    "session_times[,2] <- session_times[,2] * 100\n",
    "four_sessions  <- read.csv(file.path(PSDS_PATH, 'data', 'four_sessions.csv'))\n",
    "click_rate <-  read.csv(file.path(PSDS_PATH, 'data', 'click_rates.csv'))\n",
    "imanishi <-  read.csv(file.path(PSDS_PATH, 'data', 'imanishi_data.csv'))"
   ]
  },
  {
   "cell_type": "code",
   "execution_count": null,
   "metadata": {
    "vscode": {
     "languageId": "r"
    }
   },
   "outputs": [],
   "source": [
    "## Code for Figure 3\n",
    "# png(filename=file.path(PSDS_PATH, 'figures', 'psds_0303.png'),  width = 4, height=4, units='in', res=300)\n",
    "ggplot(session_times, aes(x=Page, y=Time)) + \n",
    "  geom_boxplot() +\n",
    "  labs(y='Time (in seconds)') + \n",
    "  theme_bw()\n",
    "# dev.off()"
   ]
  },
  {
   "cell_type": "code",
   "execution_count": null,
   "metadata": {
    "vscode": {
     "languageId": "r"
    }
   },
   "outputs": [],
   "source": [
    "mean_a <- mean(session_times[session_times['Page']=='Page A', 'Time'])\n",
    "mean_b <- mean(session_times[session_times['Page']=='Page B', 'Time'])\n",
    "mean_b - mean_a\n"
   ]
  },
  {
   "cell_type": "code",
   "execution_count": null,
   "metadata": {
    "vscode": {
     "languageId": "r"
    }
   },
   "outputs": [],
   "source": [
    "## Permutation test example with stickiness\n",
    "perm_fun <- function(x, n1, n2)\n",
    "{\n",
    "  n <- n1 + n2\n",
    "  idx_b <- sample(1:n, n1)\n",
    "  idx_a <- setdiff(1:n, idx_b)\n",
    "  mean_diff <- mean(x[idx_b]) - mean(x[idx_a])\n",
    "  return(mean_diff)\n",
    "}\n",
    "\n",
    "## Code for Figure 4\n",
    "# png(filename=file.path(PSDS_PATH, 'figures', 'psds_0304.png'),  width = 4, height=4, units='in', res=300)\n",
    "perm_diffs <- rep(0, 1000)\n",
    "for(i in 1:1000)\n",
    "  perm_diffs[i] = perm_fun(session_times[,'Time'], 21, 15)\n",
    "par(mar=c(4,4,1,0)+.1)\n",
    "hist(perm_diffs, xlab='Session time differences (in seconds)', main='')\n",
    "abline(v = mean_b - mean_a)\n",
    "# dev.off()"
   ]
  },
  {
   "cell_type": "code",
   "execution_count": null,
   "metadata": {
    "vscode": {
     "languageId": "r"
    }
   },
   "outputs": [],
   "source": [
    "mean(perm_diffs > (mean_b - mean_a))"
   ]
  },
  {
   "cell_type": "code",
   "execution_count": null,
   "metadata": {
    "vscode": {
     "languageId": "r"
    }
   },
   "outputs": [],
   "source": [
    "## Code for Figure 5\n",
    "# png(filename=file.path(PSDS_PATH, 'figures', 'psds_0305.png'),  width = 4, height=4, units='in', res=300)\n",
    "\n",
    "obs_pct_diff <- 100*(200/23739 - 182/22588)\n",
    "conversion <- c(rep(0, 45945), rep(1, 382))\n",
    "perm_diffs <- rep(0, 1000)\n",
    "for(i in 1:1000)\n",
    "  perm_diffs[i] = 100*perm_fun(conversion, 23739, 22588 )\n",
    "hist(perm_diffs, xlab='Conversion rate (percent)', main='')\n",
    "abline(v = obs_pct_diff, lty=2, lwd=1.5)\n",
    "text(\"  Observed\\n  difference\", x=obs_pct_diff,  y=par()$usr[4]-20, adj=0)\n",
    "\n",
    "# dev.off()"
   ]
  },
  {
   "cell_type": "code",
   "execution_count": null,
   "metadata": {
    "vscode": {
     "languageId": "r"
    }
   },
   "outputs": [],
   "source": [
    "mean(perm_diffs > obs_pct_diff)\n",
    "\n",
    "prop.test(x=c(200,182), n=c(23739,22588), alternative=\"greater\")"
   ]
  },
  {
   "cell_type": "code",
   "execution_count": null,
   "metadata": {
    "vscode": {
     "languageId": "r"
    }
   },
   "outputs": [],
   "source": [
    "## Histogram of resample\n",
    "## t-test\n",
    "t.test(Time ~ Page, data=session_times, alternative='less' )"
   ]
  },
  {
   "cell_type": "code",
   "execution_count": null,
   "metadata": {
    "vscode": {
     "languageId": "r"
    }
   },
   "outputs": [],
   "source": [
    "## session times\n",
    "\n",
    "## four groups ANOVA\n",
    "\n",
    "## Code for Figure 6\n",
    "# png(filename=file.path(PSDS_PATH, 'figures', 'psds_0306.png'),  width = 4, height=4, units='in', res=300)\n",
    "\n",
    "ggplot(four_sessions, aes(x=Page, y=Time)) + \n",
    "  geom_boxplot() +\n",
    "  labs(y='Time (in seconds)') +\n",
    "  theme_bw()\n",
    "\n",
    "# dev.off()"
   ]
  },
  {
   "cell_type": "code",
   "execution_count": null,
   "metadata": {
    "vscode": {
     "languageId": "r"
    }
   },
   "outputs": [],
   "source": [
    "summary(aovp(Time ~ Page, data=four_sessions))\n",
    "summary(aov(Time ~ Page, data=four_sessions))"
   ]
  },
  {
   "cell_type": "code",
   "execution_count": null,
   "metadata": {
    "vscode": {
     "languageId": "r"
    }
   },
   "outputs": [],
   "source": [
    "## Chi square test\n",
    "clicks <- matrix(click_rate$Rate, nrow=3, ncol=2, byrow=TRUE)\n",
    "dimnames(clicks) <- list(unique(click_rate$Headline), unique(click_rate$Click))\n",
    "\n",
    "chisq.test(clicks, simulate.p.value=TRUE)\n",
    "\n",
    "chisq.test(clicks, simulate.p.value=FALSE)"
   ]
  },
  {
   "cell_type": "code",
   "execution_count": null,
   "metadata": {
    "vscode": {
     "languageId": "r"
    }
   },
   "outputs": [],
   "source": [
    "## Code for Figure 7\n",
    "x <- seq(1, 30, length=100)\n",
    "chi <- data.frame(df = factor(rep(c(1, 2, 5, 10), rep(100, 4))),\n",
    "                  x = rep(x, 4),\n",
    "                  p = c(dchisq(x, 1), dchisq(x, 2), dchisq(x, 5), dchisq(x, 20)))\n",
    "\n",
    "# png(filename=file.path(PSDS_PATH, 'figures', 'psds_0307.png'),  width = 5, height=3, units='in', res=300)\n",
    "\n",
    "ggplot(chi, aes(x=x, y=p)) +\n",
    "  geom_line(aes(linetype=df)) +\n",
    "  theme_bw() +\n",
    "  labs(x='', y='')\n",
    "\n",
    "# dev.off()"
   ]
  },
  {
   "cell_type": "code",
   "execution_count": null,
   "metadata": {
    "vscode": {
     "languageId": "r"
    }
   },
   "outputs": [],
   "source": [
    "## Fishers exact test\n",
    "fisher.test(clicks)"
   ]
  },
  {
   "cell_type": "code",
   "execution_count": null,
   "metadata": {
    "vscode": {
     "languageId": "r"
    }
   },
   "outputs": [],
   "source": [
    "## Tufts example\n",
    "## Code for Figure 8\n",
    "# png(filename=file.path(PSDS_PATH, 'figures', 'psds_0308.png'),  width = 4, height=4, units='in', res=300)\n",
    "imanishi$Digit <- factor(imanishi$Digit)\n",
    "\n",
    "ggplot(imanishi, aes(x=Digit, y=Frequency)) +\n",
    "  geom_bar(stat=\"identity\") +\n",
    "  theme_bw()\n",
    "  \n",
    "# dev.off()"
   ]
  }
 ],
 "metadata": {
  "kernelspec": {
   "display_name": "R",
   "language": "R",
   "name": "ir"
  },
  "language_info": {
   "codemirror_mode": "r",
   "file_extension": ".r",
   "mimetype": "text/x-r-source",
   "name": "R",
   "pygments_lexer": "r",
   "version": "4.3.1"
  }
 },
 "nbformat": 4,
 "nbformat_minor": 2
}
