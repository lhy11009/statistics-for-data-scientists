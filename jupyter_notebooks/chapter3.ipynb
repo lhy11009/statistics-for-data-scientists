{
 "cells": [
  {
   "cell_type": "markdown",
   "metadata": {},
   "source": [
    "## Chapter 3: Statistical Experiments and Significance Testing\n",
    "\n",
    "Design of experiments\n",
    "\n",
    "Some commom experiments and their meanings."
   ]
  },
  {
   "cell_type": "code",
   "execution_count": null,
   "metadata": {
    "vscode": {
     "languageId": "r"
    }
   },
   "outputs": [],
   "source": [
    "# load libraies\n",
    "list.of.packages <- c(\"dplyr\", \"ggplot2\", \"lmPerm\")\n",
    "new.packages <- list.of.packages[!(list.of.packages %in% installed.packages()[,\"Package\"])]\n",
    "if(length(new.packages)) install.packages(new.packages)\n",
    "\n",
    "library(ggplot2)\n",
    "library(dplyr)\n",
    "library(lmPerm)"
   ]
  },
  {
   "cell_type": "code",
   "execution_count": null,
   "metadata": {
    "vscode": {
     "languageId": "r"
    }
   },
   "outputs": [],
   "source": [
    "# read data\n",
    "\n",
    "PSDS_PATH <- file.path('~/Desktop', 'statistics-for-data-scientists')\n",
    "\n",
    "session_times <- read.csv(file.path(PSDS_PATH, 'data', 'web_page_data.csv'))\n",
    "session_times[,2] <- session_times[,2] * 100\n",
    "four_sessions  <- read.csv(file.path(PSDS_PATH, 'data', 'four_sessions.csv'))\n",
    "click_rate <-  read.csv(file.path(PSDS_PATH, 'data', 'click_rates.csv'))\n",
    "imanishi <-  read.csv(file.path(PSDS_PATH, 'data', 'imanishi_data.csv'))"
   ]
  },
  {
   "cell_type": "markdown",
   "metadata": {},
   "source": [
    "### A/B testing\n",
    "\n",
    "This process starts with a hypothesis (“drug A is better than the existing standard drug,” or “price A is more profitable than the existing price B”)\n",
    "\n",
    "-> an experiment (A/B test)\n",
    "\n",
    "-> collect data\n",
    "\n",
    "-> apply results\n",
    "\n",
    "\n",
    "#### Results of A/B test\n",
    "\n",
    "A and B: treatment vs no treatment -> \n",
    "* discrete data results could be summarized in a 2*2 table\n",
    "\n",
    "![](10.png)\n",
    "\n",
    "* continous value -> mean and SD of the resulting sample\n",
    "\n",
    "    Revenue/page view with price A: mean = 3.87, SD = 51.10\n",
    "    \n",
    "    Revenue/page view with price B: mean = 4.11, SD = 62.98\n",
    "\n",
    "### Hypotheis tests\n",
    "\n",
    "reasons to have hypothesis rather than just compare results from A and B test group:\n",
    "\n",
    "* failure to anticipate extreme events, or so-called “black swans”\n",
    "* the tendency to misinterpret random events as having patterns of some significance.\n",
    "\n",
    "#### an example: \n",
    "\n",
    "Ask several friends to invent a series of 50 coin flips: have them write down a\n",
    "series of random Hs and Ts. Then ask them to actually flip a coin 50 times and write\n",
    "down the results.\n",
    "\n",
    "real one: will have longer run of of Hs and Ts.\n",
    "\n",
    "written one: we tend to think we need to make up a T after several Hs in order to look random\n",
    "\n",
    "On the other hand, when we do see the real-world equivalent of six Hs in a row (e.g., when one headline outperforms another by 10%), we are inclined to attribute it to something real, not just to chance.\n",
    "\n",
    "#### Result of hypotheis test\n",
    "\n",
    "* Random chance in assignment of subjects\n",
    "\n",
    "* A true difference between A and B\n",
    "\n",
    "#### The null hypothesis: any difference between the groups is due to chance\n",
    "\n",
    "our task: prove the null hypothesis wrong.\n",
    "\n",
    "general idea: resampling permutation procedure \n",
    "\n",
    "shuffle together A and B -> bootstrap / permutation -> resample -> see if we get a difference as extreme as the observed difference\n",
    "\n",
    "#### Alternative hypothesis: true difference\n",
    "\n",
    "one way (e.g you don't want to be fooled by option B): B > A (by chance of X%)\n",
    "\n",
    "two way (e.g. you don't want to be fooled by both): A and B are different  (by chance of X%)"
   ]
  },
  {
   "cell_type": "markdown",
   "metadata": {},
   "source": [
    "### Permutation test\n",
    "\n",
    "\n",
    "#### Procedures\n",
    "\n",
    "1. Combine the results from the different groups into a single data set.\n",
    "2. Shuffle the combined data and then randomly draw (without replacement) a resample of the same size as group A (clearly it will contain some data from the other groups).\n",
    "3. From the remaining data, randomly draw (without replacement) a resample of the same size as group B.\n",
    "4. Do the same for groups C, D, and so on. You have now collected one set of resamples that mirror the sizes of the original samples.\n",
    "5. Whatever statistic or estimate was calculated for the original samples (e.g., difference in group proportions), calculate it now for the resamples, and record; this constitutes one permutation iteration.\n",
    "6. Repeat the previous steps R times to yield a permutation distribution of the test statistic. \n",
    "\n",
    "#### Results\n",
    "\n",
    "observed difference within set of permuted -> no prove\n",
    "\n",
    "observed difference out of set of permute -> prove our hypothesis (change is not responsible)\n",
    "\n",
    "example: a proxy variable for sale of a high value product - session time on page"
   ]
  },
  {
   "cell_type": "code",
   "execution_count": null,
   "metadata": {
    "vscode": {
     "languageId": "r"
    }
   },
   "outputs": [],
   "source": [
    "## Code for Figure 3\n",
    "# png(filename=file.path(PSDS_PATH, 'figures', 'psds_0303.png'),  width = 4, height=4, units='in', res=300)\n",
    "ggplot(session_times, aes(x=Page, y=Time)) + \n",
    "  geom_boxplot() +\n",
    "  labs(y='Time (in seconds)') + \n",
    "  theme_bw()\n",
    "# dev.off()"
   ]
  },
  {
   "cell_type": "code",
   "execution_count": null,
   "metadata": {
    "vscode": {
     "languageId": "r"
    }
   },
   "outputs": [],
   "source": [
    "mean_a <- mean(session_times[session_times['Page']=='Page A', 'Time'])\n",
    "mean_b <- mean(session_times[session_times['Page']=='Page B', 'Time'])\n",
    "mean_b - mean_a"
   ]
  },
  {
   "cell_type": "markdown",
   "metadata": {},
   "source": [
    "#### Question to ask: whether this difference is within the range of what random chance might produce, i.e., is statistically significant\n",
    "\n",
    "apply a permutation test\n",
    "\n",
    "* combine all the session times together\n",
    "* repeatedly shuffle and divide them into groups of 21 and 15\n",
    "\n",
    "(note on the differences to bootstrap: bootstrap sample with replacement)\n",
    "\n",
    "R - \"sample\"\n",
    "\n",
    "sample takes a sample of the specified size from the element of x using either with or without replacement\n",
    "\n",
    "results - frequency: the observed result is biased"
   ]
  },
  {
   "cell_type": "code",
   "execution_count": null,
   "metadata": {
    "vscode": {
     "languageId": "r"
    }
   },
   "outputs": [],
   "source": [
    "## Permutation test example with stickiness\n",
    "perm_fun <- function(x, n1, n2)\n",
    "{\n",
    "  n <- n1 + n2\n",
    "  idx_b <- sample(1:n, n1)\n",
    "  idx_a <- setdiff(1:n, idx_b)\n",
    "  mean_diff <- mean(x[idx_b]) - mean(x[idx_a])\n",
    "  return(mean_diff)\n",
    "}\n",
    "\n",
    "## Code for Figure 4\n",
    "# png(filename=file.path(PSDS_PATH, 'figures', 'psds_0304.png'),  width = 4, height=4, units='in', res=300)\n",
    "perm_diffs <- rep(0, 1000)\n",
    "for(i in 1:1000)\n",
    "  perm_diffs[i] = perm_fun(session_times[,'Time'], 21, 15)\n",
    "par(mar=c(4,4,1,0)+.1)\n",
    "hist(perm_diffs, xlab='Session time differences (in seconds)', main='')\n",
    "abline(v = mean_b - mean_a)\n",
    "# dev.off()"
   ]
  },
  {
   "cell_type": "markdown",
   "metadata": {},
   "source": [
    "results: around 12.5 %\n",
    "-> difference of random permutations have this possibility to exceed the observed difference in session times\n",
    "-> not statistically significant"
   ]
  },
  {
   "cell_type": "code",
   "execution_count": null,
   "metadata": {
    "vscode": {
     "languageId": "r"
    }
   },
   "outputs": [],
   "source": [
    "mean(perm_diffs > (mean_b - mean_a))"
   ]
  },
  {
   "cell_type": "code",
   "execution_count": null,
   "metadata": {
    "vscode": {
     "languageId": "r"
    }
   },
   "outputs": [],
   "source": [
    "## Code for Figure 5\n",
    "# png(filename=file.path(PSDS_PATH, 'figures', 'psds_0305.png'),  width = 4, height=4, units='in', res=300)\n",
    "\n",
    "obs_pct_diff <- 100*(200/23739 - 182/22588)\n",
    "conversion <- c(rep(0, 45945), rep(1, 382))\n",
    "perm_diffs <- rep(0, 1000)\n",
    "for(i in 1:1000)\n",
    "  perm_diffs[i] = 100*perm_fun(conversion, 23739, 22588 )\n",
    "hist(perm_diffs, xlab='Conversion rate (percent)', main='')\n",
    "abline(v = obs_pct_diff, lty=2, lwd=1.5)\n",
    "text(\"  Observed\\n  difference\", x=obs_pct_diff,  y=par()$usr[4]-20, adj=0)\n",
    "\n",
    "# dev.off()"
   ]
  },
  {
   "cell_type": "code",
   "execution_count": null,
   "metadata": {
    "vscode": {
     "languageId": "r"
    }
   },
   "outputs": [],
   "source": [
    "mean(perm_diffs > obs_pct_diff)\n",
    "\n",
    "prop.test(x=c(200,182), n=c(23739,22588), alternative=\"greater\")"
   ]
  },
  {
   "cell_type": "code",
   "execution_count": null,
   "metadata": {
    "vscode": {
     "languageId": "r"
    }
   },
   "outputs": [],
   "source": [
    "## Histogram of resample\n",
    "## t-test\n",
    "t.test(Time ~ Page, data=session_times, alternative='less' )"
   ]
  },
  {
   "cell_type": "code",
   "execution_count": null,
   "metadata": {
    "vscode": {
     "languageId": "r"
    }
   },
   "outputs": [],
   "source": [
    "## session times\n",
    "\n",
    "## four groups ANOVA\n",
    "\n",
    "## Code for Figure 6\n",
    "# png(filename=file.path(PSDS_PATH, 'figures', 'psds_0306.png'),  width = 4, height=4, units='in', res=300)\n",
    "\n",
    "ggplot(four_sessions, aes(x=Page, y=Time)) + \n",
    "  geom_boxplot() +\n",
    "  labs(y='Time (in seconds)') +\n",
    "  theme_bw()\n",
    "\n",
    "# dev.off()"
   ]
  },
  {
   "cell_type": "code",
   "execution_count": null,
   "metadata": {
    "vscode": {
     "languageId": "r"
    }
   },
   "outputs": [],
   "source": [
    "summary(aovp(Time ~ Page, data=four_sessions))\n",
    "summary(aov(Time ~ Page, data=four_sessions))"
   ]
  },
  {
   "cell_type": "code",
   "execution_count": null,
   "metadata": {
    "vscode": {
     "languageId": "r"
    }
   },
   "outputs": [],
   "source": [
    "## Chi square test\n",
    "clicks <- matrix(click_rate$Rate, nrow=3, ncol=2, byrow=TRUE)\n",
    "dimnames(clicks) <- list(unique(click_rate$Headline), unique(click_rate$Click))\n",
    "\n",
    "chisq.test(clicks, simulate.p.value=TRUE)\n",
    "\n",
    "chisq.test(clicks, simulate.p.value=FALSE)"
   ]
  },
  {
   "cell_type": "code",
   "execution_count": null,
   "metadata": {
    "vscode": {
     "languageId": "r"
    }
   },
   "outputs": [],
   "source": [
    "## Code for Figure 7\n",
    "x <- seq(1, 30, length=100)\n",
    "chi <- data.frame(df = factor(rep(c(1, 2, 5, 10), rep(100, 4))),\n",
    "                  x = rep(x, 4),\n",
    "                  p = c(dchisq(x, 1), dchisq(x, 2), dchisq(x, 5), dchisq(x, 20)))\n",
    "\n",
    "# png(filename=file.path(PSDS_PATH, 'figures', 'psds_0307.png'),  width = 5, height=3, units='in', res=300)\n",
    "\n",
    "ggplot(chi, aes(x=x, y=p)) +\n",
    "  geom_line(aes(linetype=df)) +\n",
    "  theme_bw() +\n",
    "  labs(x='', y='')\n",
    "\n",
    "# dev.off()"
   ]
  },
  {
   "cell_type": "code",
   "execution_count": null,
   "metadata": {
    "vscode": {
     "languageId": "r"
    }
   },
   "outputs": [],
   "source": [
    "## Fishers exact test\n",
    "fisher.test(clicks)"
   ]
  },
  {
   "cell_type": "code",
   "execution_count": null,
   "metadata": {
    "vscode": {
     "languageId": "r"
    }
   },
   "outputs": [],
   "source": [
    "## Tufts example\n",
    "## Code for Figure 8\n",
    "# png(filename=file.path(PSDS_PATH, 'figures', 'psds_0308.png'),  width = 4, height=4, units='in', res=300)\n",
    "imanishi$Digit <- factor(imanishi$Digit)\n",
    "\n",
    "ggplot(imanishi, aes(x=Digit, y=Frequency)) +\n",
    "  geom_bar(stat=\"identity\") +\n",
    "  theme_bw()\n",
    "  \n",
    "# dev.off()"
   ]
  },
  {
   "cell_type": "markdown",
   "metadata": {},
   "source": [
    "### Further Reading\n",
    "\n",
    "* The Drunkard’s Walk by Leonard Mlodinow (Pantheon, 2008) is a readable survey of the ways in which “randomness rules our lives.”\n",
    "* Randomization Tests, 4th ed., by Eugene Edgington and Patrick Onghena (Chapman\n",
    "& Hall/CRC Press, 2007)—but don’t get too drawn into the thicket of\n",
    "nonrandom sampling\n",
    "* Introductory Statistics and Analytics: A Resampling Perspective by Peter Bruce\n",
    "(Wiley, 2014)"
   ]
  },
  {
   "cell_type": "code",
   "execution_count": null,
   "metadata": {
    "vscode": {
     "languageId": "r"
    }
   },
   "outputs": [],
   "source": []
  }
 ],
 "metadata": {
  "kernelspec": {
   "display_name": "R",
   "language": "R",
   "name": "ir"
  },
  "language_info": {
   "codemirror_mode": "r",
   "file_extension": ".r",
   "mimetype": "text/x-r-source",
   "name": "R",
   "pygments_lexer": "r",
   "version": "4.3.1"
  }
 },
 "nbformat": 4,
 "nbformat_minor": 2
}
