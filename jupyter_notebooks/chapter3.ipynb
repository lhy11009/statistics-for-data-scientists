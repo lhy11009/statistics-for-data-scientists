{
 "cells": [
  {
   "cell_type": "markdown",
   "metadata": {},
   "source": [
    "## Chapter 3: Statistical Experiments and Significance Testing\n",
    "\n",
    "Design of experiments\n",
    "\n",
    "Some commom experiments and their meanings."
   ]
  },
  {
   "cell_type": "code",
   "execution_count": null,
   "metadata": {
    "vscode": {
     "languageId": "r"
    }
   },
   "outputs": [],
   "source": [
    "# load libraies\n",
    "list.of.packages <- c(\"dplyr\", \"ggplot2\", \"lmPerm\")\n",
    "new.packages <- list.of.packages[!(list.of.packages %in% installed.packages()[,\"Package\"])]\n",
    "if(length(new.packages)) install.packages(new.packages)\n",
    "\n",
    "library(ggplot2)\n",
    "library(dplyr)\n",
    "library(lmPerm)"
   ]
  },
  {
   "cell_type": "code",
   "execution_count": null,
   "metadata": {
    "vscode": {
     "languageId": "r"
    }
   },
   "outputs": [],
   "source": [
    "# read data\n",
    "\n",
    "PSDS_PATH <- file.path('~/Desktop', 'statistics-for-data-scientists')\n",
    "\n",
    "session_times <- read.csv(file.path(PSDS_PATH, 'data', 'web_page_data.csv'))\n",
    "session_times[,2] <- session_times[,2] * 100\n",
    "four_sessions  <- read.csv(file.path(PSDS_PATH, 'data', 'four_sessions.csv'))\n",
    "click_rate <-  read.csv(file.path(PSDS_PATH, 'data', 'click_rates.csv'))\n",
    "imanishi <-  read.csv(file.path(PSDS_PATH, 'data', 'imanishi_data.csv'))"
   ]
  },
  {
   "cell_type": "markdown",
   "metadata": {},
   "source": [
    "### A/B testing\n",
    "\n",
    "This process starts with a hypothesis (“drug A is better than the existing standard drug,” or “price A is more profitable than the existing price B”)\n",
    "\n",
    "-> an experiment (A/B test)\n",
    "\n",
    "-> collect data\n",
    "\n",
    "-> apply results\n",
    "\n",
    "\n",
    "#### Results of A/B test\n",
    "\n",
    "A and B: treatment vs no treatment -> \n",
    "* discrete data results could be summarized in a 2*2 table\n",
    "\n",
    "![](10.png)\n",
    "\n",
    "* continous value -> mean and SD of the resulting sample\n",
    "\n",
    "    Revenue/page view with price A: mean = 3.87, SD = 51.10\n",
    "    \n",
    "    Revenue/page view with price B: mean = 4.11, SD = 62.98\n",
    "\n",
    "### Hypotheis tests\n",
    "\n",
    "reasons to have hypothesis rather than just compare results from A and B test group:\n",
    "\n",
    "* failure to anticipate extreme events, or so-called “black swans”\n",
    "* the tendency to misinterpret random events as having patterns of some significance.\n",
    "\n",
    "#### an example: \n",
    "\n",
    "Ask several friends to invent a series of 50 coin flips: have them write down a\n",
    "series of random Hs and Ts. Then ask them to actually flip a coin 50 times and write\n",
    "down the results.\n",
    "\n",
    "real one: will have longer run of of Hs and Ts.\n",
    "\n",
    "written one: we tend to think we need to make up a T after several Hs in order to look random\n",
    "\n",
    "On the other hand, when we do see the real-world equivalent of six Hs in a row (e.g., when one headline outperforms another by 10%), we are inclined to attribute it to something real, not just to chance.\n",
    "\n",
    "#### Result of hypotheis test\n",
    "\n",
    "* Random chance in assignment of subjects\n",
    "\n",
    "* A true difference between A and B\n",
    "\n",
    "#### The null hypothesis: any difference between the groups is due to chance\n",
    "\n",
    "our task: prove the null hypothesis wrong.\n",
    "\n",
    "general idea: resampling permutation procedure \n",
    "\n",
    "shuffle together A and B -> bootstrap / permutation -> resample -> see if we get a difference as extreme as the observed difference\n",
    "\n",
    "#### Alternative hypothesis: true difference\n",
    "\n",
    "one way (e.g you don't want to be fooled by option B): B > A (by chance of X%)\n",
    "\n",
    "two way (e.g. you don't want to be fooled by both): A and B are different  (by chance of X%)"
   ]
  },
  {
   "cell_type": "markdown",
   "metadata": {},
   "source": [
    "### Permutation test\n",
    "\n",
    "\n",
    "#### Procedures\n",
    "\n",
    "1. Combine the results from the different groups into a single data set.\n",
    "2. Shuffle the combined data and then randomly draw (without replacement) a resample of the same size as group A (clearly it will contain some data from the other groups).\n",
    "3. From the remaining data, randomly draw (without replacement) a resample of the same size as group B.\n",
    "4. Do the same for groups C, D, and so on. You have now collected one set of resamples that mirror the sizes of the original samples.\n",
    "5. Whatever statistic or estimate was calculated for the original samples (e.g., difference in group proportions), calculate it now for the resamples, and record; this constitutes one permutation iteration.\n",
    "6. Repeat the previous steps R times to yield a permutation distribution of the test statistic. \n",
    "\n",
    "#### Results\n",
    "\n",
    "observed difference within set of permuted -> no prove\n",
    "\n",
    "observed difference out of set of permute -> prove our hypothesis (change is not responsible)\n",
    "\n",
    "example: a proxy variable for sale of a high value product - session time on page"
   ]
  },
  {
   "cell_type": "code",
   "execution_count": null,
   "metadata": {
    "vscode": {
     "languageId": "r"
    }
   },
   "outputs": [],
   "source": [
    "## Code for Figure 3\n",
    "# png(filename=file.path(PSDS_PATH, 'figures', 'psds_0303.png'),  width = 4, height=4, units='in', res=300)\n",
    "ggplot(session_times, aes(x=Page, y=Time)) + \n",
    "  geom_boxplot() +\n",
    "  labs(y='Time (in seconds)') + \n",
    "  theme_bw()\n",
    "# dev.off()"
   ]
  },
  {
   "cell_type": "code",
   "execution_count": null,
   "metadata": {
    "vscode": {
     "languageId": "r"
    }
   },
   "outputs": [],
   "source": [
    "mean_a <- mean(session_times[session_times['Page']=='Page A', 'Time'])\n",
    "mean_b <- mean(session_times[session_times['Page']=='Page B', 'Time'])\n",
    "mean_b - mean_a"
   ]
  },
  {
   "cell_type": "markdown",
   "metadata": {},
   "source": [
    "#### Question to ask: whether this difference is within the range of what random chance might produce, i.e., is statistically significant\n",
    "\n",
    "apply a permutation test\n",
    "\n",
    "* combine all the session times together\n",
    "* repeatedly shuffle and divide them into groups of 21 and 15\n",
    "\n",
    "(note on the differences to bootstrap: bootstrap sample with replacement)\n",
    "\n",
    "R - \"sample\"\n",
    "\n",
    "sample takes a sample of the specified size from the element of x using either with or without replacement\n",
    "\n",
    "results - frequency: the observed result is biased"
   ]
  },
  {
   "cell_type": "code",
   "execution_count": null,
   "metadata": {
    "vscode": {
     "languageId": "r"
    }
   },
   "outputs": [],
   "source": [
    "## Permutation test example with stickiness\n",
    "perm_fun <- function(x, n1, n2)\n",
    "{\n",
    "  n <- n1 + n2\n",
    "  idx_b <- sample(1:n, n1)\n",
    "  idx_a <- setdiff(1:n, idx_b)\n",
    "  mean_diff <- mean(x[idx_b]) - mean(x[idx_a])\n",
    "  return(mean_diff)\n",
    "}\n",
    "\n",
    "## Code for Figure 4\n",
    "# png(filename=file.path(PSDS_PATH, 'figures', 'psds_0304.png'),  width = 4, height=4, units='in', res=300)\n",
    "perm_diffs <- rep(0, 1000)\n",
    "for(i in 1:1000)\n",
    "  perm_diffs[i] = perm_fun(session_times[,'Time'], 21, 15)\n",
    "par(mar=c(4,4,1,0)+.1)\n",
    "hist(perm_diffs, xlab='Session time differences (in seconds)', main='')\n",
    "abline(v = mean_b - mean_a)\n",
    "# dev.off()"
   ]
  },
  {
   "cell_type": "markdown",
   "metadata": {},
   "source": [
    "results: around 12.5 %\n",
    "-> difference of random permutations have this possibility to exceed the observed difference in session times\n",
    "-> not statistically significant"
   ]
  },
  {
   "cell_type": "code",
   "execution_count": null,
   "metadata": {
    "vscode": {
     "languageId": "r"
    }
   },
   "outputs": [],
   "source": [
    "mean(perm_diffs > (mean_b - mean_a))"
   ]
  },
  {
   "cell_type": "markdown",
   "metadata": {},
   "source": [
    "### Statistical Significance and p-Values\n",
    "\n",
    "meaning: measure whether an experiment (or even a study of existing data) yields a result more extreme than what chance might produce.\n",
    "-> higher p value means the chance model is likely to produce extreme results as observed (confusing).\n",
    "-> lower p value means result is statistically significant.\n",
    "\n",
    "Example: results of the previous A/B test: data set is large (45000) but the dataset of conversion is small ($\\sim 400$) -> significance test\n",
    "\n",
    "Procedure of the test:\n",
    "\n",
    "1. Put cards labeled 1 and 0 in a box: this represents the supposed shared conversion\n",
    "rate of 382 ones and 45,945 zeros = 0.008246 = 0.8246%.\n",
    "2. Shuffle and draw out a resample of size 23,739 (same n as price A), and record\n",
    "how many 1s.\n",
    "3. Record the number of 1s in the remaining 22,588 (same n as price B).\n",
    "4. Record the difference in proportion of 1s.\n",
    "5. Repeat steps 2–4.\n",
    "6. How often was the difference >= 0.0368?\n",
    "\n",
    "Results:\n",
    "\n",
    "observed difference of 0.0358% is well within the range of chance variation\n",
    "\n",
    "In other words: given a chance model, this is the possibility that results as extreme as the observed results could occur\n",
    "\n",
    "For the discussion:\n",
    "\n",
    "it seems high p value means the results is not proven but lower p value doesn't means the result is definitely meaningfully, it only carries the meaning that the result is not denied by a specific statistical model of chance.\n",
    "\n",
    "\"As a decision tool in an experiment, a p-value should not be considered controlling, but merely another point of information bearing on a decision. \n",
    "For example, p-values are sometimes used as intermediate inputs in some statistical or machine learning models—a feature might be included in or excluded from a model depending on its p-value.\"\n"
   ]
  },
  {
   "cell_type": "code",
   "execution_count": null,
   "metadata": {
    "vscode": {
     "languageId": "r"
    }
   },
   "outputs": [],
   "source": [
    "## Code for Figure 5\n",
    "# png(filename=file.path(PSDS_PATH, 'figures', 'psds_0305.png'),  width = 4, height=4, units='in', res=300)\n",
    "\n",
    "obs_pct_diff <- 100*(200/23739 - 182/22588)\n",
    "conversion <- c(rep(0, 45945), rep(1, 382))\n",
    "perm_diffs <- rep(0, 1000)\n",
    "for(i in 1:1000)\n",
    "  perm_diffs[i] = 100*perm_fun(conversion, 23739, 22588 )\n",
    "hist(perm_diffs, xlab='Conversion rate (percent)', main='')\n",
    "abline(v = obs_pct_diff, lty=2, lwd=1.5)\n",
    "text(\"  Observed\\n  difference\", x=obs_pct_diff,  y=par()$usr[4]-20, adj=0)\n",
    "\n",
    "# dev.off()"
   ]
  },
  {
   "cell_type": "markdown",
   "metadata": {},
   "source": [
    "#### p-value: The chance model produces a result more extreme than the observed result\n",
    "\n",
    "approach 1: compare the differences between the two groups in permutation test \"perm_diffs\" to the observed difference\n",
    "\n",
    "approach 2: prop test since we have a binomial distribution\n",
    "-> result in the p-value as well as condidence interval\n",
    "-> 95% percent condifence interval says it's most likely method 1 is better (lower bd is only -0.1%)."
   ]
  },
  {
   "cell_type": "code",
   "execution_count": null,
   "metadata": {
    "vscode": {
     "languageId": "r"
    }
   },
   "outputs": [],
   "source": [
    "mean(perm_diffs > obs_pct_diff)\n",
    "\n",
    "prop.test(x=c(200,182), n=c(23739,22588), alternative=\"greater\")"
   ]
  },
  {
   "cell_type": "markdown",
   "metadata": {},
   "source": [
    "#### alpha value\n",
    "\n",
    "“Given a chance model, what is the probability of a result this extreme?”\n",
    "\n",
    "aplpha-value - determine whether a result is too \"unusual\"\n",
    "\n",
    "5% alpha value - “more extreme than 5% of the chance (null hypothesis) results”\n",
    "\n",
    "### t-Tests\n",
    "\n",
    "The general idea behind significance test: measure the effect you are interested in and help you determine whether that observed effect lies within the range of normal chance variation (if so, the result is not proven).\n",
    "\n",
    "a type of significance test, named after Student's t-distribution\n",
    "\n",
    "It doesn't perform permutation, thus doesn't require computational power.\n",
    "\n",
    "(So the p-value is derived not from permutation test but from the t-distribution model)\n",
    "\n",
    "It demonstrates how to standardize your data to compare it to the standard t-distribution\n",
    "\n",
    "R: build-in t.test\n"
   ]
  },
  {
   "cell_type": "code",
   "execution_count": null,
   "metadata": {
    "vscode": {
     "languageId": "r"
    }
   },
   "outputs": [],
   "source": [
    "## Histogram of resample\n",
    "## t-test\n",
    "t.test(Time ~ Page, data=session_times, alternative='less' )"
   ]
  },
  {
   "cell_type": "markdown",
   "metadata": {},
   "source": [
    "### Multiple testing\n",
    "\n",
    "“Torture the data long enough, and it will confess.”\n",
    "\n",
    "For example, 20 predictor variables -> each passing the significant test by 0.05 level\n",
    "-> possibility at least one tests significance -> 1 - 0.95^20 = 0.64\n",
    "\n",
    "\"fitting the model to the noise\"\n",
    "\n",
    "(There are high \"possibility\" that one of many preditor would pass the test of the \"chance\" model)\n",
    "\n",
    "The more comparison being done, the more likely to be fooled by data (e.g. compare results from different test group, compare therapy at multiple stages)\n",
    "\n",
    "-> adjustments (e.g. devide the alpha value by the number of tests)\n",
    "\n",
    "-> a smaller alpha and thus a stronger bar for statistical significance."
   ]
  },
  {
   "cell_type": "markdown",
   "metadata": {},
   "source": [
    "#### The Degrees of freedom\n",
    "\n",
    "e.g. if you know the mean of a sample size of n -> dof is n-1\n",
    "\n",
    "(once you know n-1 of the sample values, the n th can be calculated and is not free\n",
    "to vary)\n",
    "\n",
    "big data : doesn't matter because n is already large\n",
    "\n",
    "linear regression: this matters, because variables need to be independent as a set (cannot include more than n-1 factors)."
   ]
  },
  {
   "cell_type": "markdown",
   "metadata": {},
   "source": [
    "### ANOVA\n",
    "\n",
    "A comparison of multiple groups (e.g. A/B/C/D).\n",
    "\n",
    "analysis of variance (ANOVA).\n",
    "\n",
    "#### The stickness of 4 webpages\n",
    "\n",
    "![](11.png)\n",
    "\n",
    "6 different comparison in total:\n",
    "\n",
    "* Page 1 compared to page 2\n",
    "* Page 1 compared to page 3\n",
    "* Page 1 compared to page 4\n",
    "* Page 2 compared to page 3\n",
    "* Page 2 compared to page 4\n",
    "* Page 3 compared to page 4\n",
    "\n",
    "\n",
    "“Could all the pages have the same underlying stickiness, and the differences among them be due to the random way in which a common set of session times got allocated among the four pages?\""
   ]
  },
  {
   "cell_type": "code",
   "execution_count": null,
   "metadata": {
    "vscode": {
     "languageId": "r"
    }
   },
   "outputs": [],
   "source": [
    "four_sessions"
   ]
  },
  {
   "cell_type": "code",
   "execution_count": null,
   "metadata": {
    "vscode": {
     "languageId": "r"
    }
   },
   "outputs": [],
   "source": [
    "## session times\n",
    "\n",
    "## four groups ANOVA\n",
    "\n",
    "## Code for Figure 6\n",
    "# png(filename=file.path(PSDS_PATH, 'figures', 'psds_0306.png'),  width = 4, height=4, units='in', res=300)\n",
    "\n",
    "ggplot(four_sessions, aes(x=Page, y=Time)) + \n",
    "  geom_boxplot() +\n",
    "  labs(y='Time (in seconds)') +\n",
    "  theme_bw()\n",
    "\n",
    "# dev.off()"
   ]
  },
  {
   "cell_type": "code",
   "execution_count": null,
   "metadata": {
    "vscode": {
     "languageId": "r"
    }
   },
   "outputs": [],
   "source": [
    "summary(aovp(Time ~ Page, data=four_sessions))\n",
    "summary(aov(Time ~ Page, data=four_sessions))"
   ]
  },
  {
   "cell_type": "code",
   "execution_count": null,
   "metadata": {
    "vscode": {
     "languageId": "r"
    }
   },
   "outputs": [],
   "source": [
    "## Chi square test\n",
    "clicks <- matrix(click_rate$Rate, nrow=3, ncol=2, byrow=TRUE)\n",
    "dimnames(clicks) <- list(unique(click_rate$Headline), unique(click_rate$Click))\n",
    "\n",
    "chisq.test(clicks, simulate.p.value=TRUE)\n",
    "\n",
    "chisq.test(clicks, simulate.p.value=FALSE)"
   ]
  },
  {
   "cell_type": "code",
   "execution_count": null,
   "metadata": {
    "vscode": {
     "languageId": "r"
    }
   },
   "outputs": [],
   "source": [
    "## Code for Figure 7\n",
    "x <- seq(1, 30, length=100)\n",
    "chi <- data.frame(df = factor(rep(c(1, 2, 5, 10), rep(100, 4))),\n",
    "                  x = rep(x, 4),\n",
    "                  p = c(dchisq(x, 1), dchisq(x, 2), dchisq(x, 5), dchisq(x, 20)))\n",
    "\n",
    "# png(filename=file.path(PSDS_PATH, 'figures', 'psds_0307.png'),  width = 5, height=3, units='in', res=300)\n",
    "\n",
    "ggplot(chi, aes(x=x, y=p)) +\n",
    "  geom_line(aes(linetype=df)) +\n",
    "  theme_bw() +\n",
    "  labs(x='', y='')\n",
    "\n",
    "# dev.off()"
   ]
  },
  {
   "cell_type": "code",
   "execution_count": null,
   "metadata": {
    "vscode": {
     "languageId": "r"
    }
   },
   "outputs": [],
   "source": [
    "## Fishers exact test\n",
    "fisher.test(clicks)"
   ]
  },
  {
   "cell_type": "code",
   "execution_count": null,
   "metadata": {
    "vscode": {
     "languageId": "r"
    }
   },
   "outputs": [],
   "source": [
    "## Tufts example\n",
    "## Code for Figure 8\n",
    "# png(filename=file.path(PSDS_PATH, 'figures', 'psds_0308.png'),  width = 4, height=4, units='in', res=300)\n",
    "imanishi$Digit <- factor(imanishi$Digit)\n",
    "\n",
    "ggplot(imanishi, aes(x=Digit, y=Frequency)) +\n",
    "  geom_bar(stat=\"identity\") +\n",
    "  theme_bw()\n",
    "  \n",
    "# dev.off()"
   ]
  },
  {
   "cell_type": "markdown",
   "metadata": {},
   "source": [
    "### Further Reading\n",
    "\n",
    "* The Drunkard’s Walk by Leonard Mlodinow (Pantheon, 2008) is a readable survey of the ways in which “randomness rules our lives.”\n",
    "* Randomization Tests, 4th ed., by Eugene Edgington and Patrick Onghena (Chapman\n",
    "& Hall/CRC Press, 2007)—but don’t get too drawn into the thicket of\n",
    "nonrandom sampling\n",
    "* Introductory Statistics and Analytics: A Resampling Perspective by Peter Bruce\n",
    "(Wiley, 2014)"
   ]
  },
  {
   "cell_type": "code",
   "execution_count": null,
   "metadata": {
    "vscode": {
     "languageId": "r"
    }
   },
   "outputs": [],
   "source": []
  }
 ],
 "metadata": {
  "kernelspec": {
   "display_name": "R",
   "language": "R",
   "name": "ir"
  },
  "language_info": {
   "codemirror_mode": "r",
   "file_extension": ".r",
   "mimetype": "text/x-r-source",
   "name": "R",
   "pygments_lexer": "r",
   "version": "4.3.1"
  }
 },
 "nbformat": 4,
 "nbformat_minor": 2
}
