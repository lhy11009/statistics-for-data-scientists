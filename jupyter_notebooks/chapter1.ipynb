{
 "cells": [
  {
   "cell_type": "markdown",
   "metadata": {},
   "source": [
    "### Structural data\n",
    "\n",
    "continous (wind speed)\n",
    "\n",
    "discrete (count of occruece)\n",
    "\n",
    "Categorical (fix set of value)\n",
    "\n",
    "    Binary data (0/1)\n",
    "\n",
    "    ordinal data (ordered, e.g. 1, 2, 3, 4, 5)"
   ]
  },
  {
   "cell_type": "code",
   "execution_count": null,
   "metadata": {
    "vscode": {
     "languageId": "r"
    }
   },
   "outputs": [],
   "source": [
    "#%%R\n",
    "# packages needed for chapter 1\n",
    "list.of.packages <- c(\"dplyr\", \"tidyr\", \"ggplot2\", \"vioplot\", \"ascii\", \"corrplot\", \"descr\", \"matrixStats\", \"hexbin\")\n",
    "new.packages <- list.of.packages[!(list.of.packages %in% installed.packages()[,\"Package\"])]\n",
    "if(length(new.packages)) install.packages(new.packages)"
   ]
  },
  {
   "cell_type": "code",
   "execution_count": null,
   "metadata": {
    "vscode": {
     "languageId": "r"
    }
   },
   "outputs": [],
   "source": [
    "# %%R\n",
    "# packages needed for chapter 1\n",
    "library(dplyr)\n",
    "library(tidyr)\n",
    "library(ggplot2)\n",
    "library(vioplot)\n",
    "library(ascii)\n",
    "library(corrplot)\n",
    "library(descr)\n",
    "library(\"matrixStats\")\n",
    "library(\"hexbin\")"
   ]
  },
  {
   "cell_type": "code",
   "execution_count": null,
   "metadata": {
    "vscode": {
     "languageId": "r"
    }
   },
   "outputs": [],
   "source": [
    "# %%R\n",
    "# Import the datasets needed for chapter 1\n",
    "PSDS_PATH <- file.path('~/Desktop', 'statistics-for-data-scientists')\n",
    "dir.create(file.path(PSDS_PATH, 'figures'))\n",
    "\n",
    "state <- read.csv(file.path(PSDS_PATH, 'data', 'state.csv'))\n",
    "dfw <- read.csv(file.path(PSDS_PATH, 'data', 'dfw_airline.csv'))\n",
    "sp500_px <- read.csv(file.path(PSDS_PATH, 'data', 'sp500_px.csv'))\n",
    "sp500_sym <- read.csv(file.path(PSDS_PATH, 'data', 'sp500_sym.csv'), stringsAsFactors = FALSE)\n",
    "kc_tax <- read.csv(file.path(PSDS_PATH, 'data', 'kc_tax.csv'))\n",
    "lc_loans <- read.csv(file.path(PSDS_PATH, 'data', 'lc_loans.csv'))\n",
    "airline_stats <- read.csv(file.path(PSDS_PATH, 'data', 'airline_stats.csv'), stringsAsFactors = FALSE)\n",
    "airline_stats$airline <- ordered(airline_stats$airline, levels=c('Alaska', 'American', 'Jet Blue', 'Delta', 'United', 'Southwest'))"
   ]
  },
  {
   "cell_type": "markdown",
   "metadata": {},
   "source": [
    "### Rectangular Data\n",
    "\n",
    "rows - cases (example: different states)\n",
    "\n",
    "columns - features"
   ]
  },
  {
   "cell_type": "code",
   "execution_count": null,
   "metadata": {
    "vscode": {
     "languageId": "r"
    }
   },
   "outputs": [],
   "source": [
    "## Code to create state table\n",
    "state_asc <- state\n",
    "state_asc[[\"Population\"]] <- formatC(state_asc[[\"Population\"]], format=\"d\", digits=0, big.mark=\",\")\n",
    "ascii(state_asc[1:8,], digits=c(0, 0,1), align=c(\"l\", \"l\", \"r\", \"r\"), caption=\"A few rows of the +data.frame state+ of population and murder rate by state.\")"
   ]
  },
  {
   "cell_type": "markdown",
   "metadata": {},
   "source": [
    "### mean\n",
    "\n",
    "trim: fraction of (0 to 0.5) to be trimmed from each end.\n",
    "Values outside with take the value at the trimmed point.\n",
    "\n",
    "\n",
    "### median\n",
    "\n",
    "The value such that one-half of the data lies above and below (50th percentile)"
   ]
  },
  {
   "cell_type": "code",
   "execution_count": null,
   "metadata": {
    "vscode": {
     "languageId": "r"
    }
   },
   "outputs": [],
   "source": [
    "## Code snippet 1.1\n",
    "mean(state[[\"Population\"]])\n",
    "mean(state[[\"Population\"]], trim=0.1)\n",
    "median(state[[\"Population\"]])"
   ]
  },
  {
   "cell_type": "code",
   "execution_count": null,
   "metadata": {
    "vscode": {
     "languageId": "r"
    }
   },
   "outputs": [],
   "source": [
    "## Code snippet 1.2\n",
    "mean(state[[\"Murder.Rate\"]])\n",
    "weighted.mean(state[[\"Murder.Rate\"]], w=state[[\"Population\"]])"
   ]
  },
  {
   "cell_type": "markdown",
   "metadata": {},
   "source": [
    "### Standard deviation\n",
    "\n",
    "The square root of the variance\n",
    "\n",
    "### Median absolute deviation from the median\n",
    "\n",
    "The median of the absolute values of the deviations from the \n",
    "median.\n",
    "\n",
    "This definition is robust to outliers and extreme values\n",
    "(while the variance and the sd are not.)\n",
    "\n",
    "### percentile\n",
    "\n",
    "For example, to find the 80th percentile, sort the data.\n",
    "Then, starting with the smallest value, proceed 80 percent of the way to the largest\n",
    "value\n",
    "\n",
    "### Interquartile range\n",
    "\n",
    "The difference between the 75th percentile and the 25th percentile (IQR)"
   ]
  },
  {
   "cell_type": "code",
   "execution_count": null,
   "metadata": {
    "vscode": {
     "languageId": "r"
    }
   },
   "outputs": [],
   "source": [
    "## Code snippet 1.3\n",
    "sd(state[[\"Population\"]])\n",
    "IQR(state[[\"Population\"]])\n",
    "mad(state[[\"Population\"]])"
   ]
  },
  {
   "cell_type": "markdown",
   "metadata": {},
   "source": [
    "It is common to report the quartiles (25th, 50th, and 75th percentiles)\n",
    "and the deciles (the 10th, 20th, …, 90th percentiles)."
   ]
  },
  {
   "cell_type": "code",
   "execution_count": null,
   "metadata": {
    "vscode": {
     "languageId": "r"
    }
   },
   "outputs": [],
   "source": [
    "## Code snippet 1.4\n",
    "quantile(state[[\"Murder.Rate\"]], p=c(.05, .25, .5, .75, .95))"
   ]
  },
  {
   "cell_type": "code",
   "execution_count": null,
   "metadata": {
    "vscode": {
     "languageId": "r"
    }
   },
   "outputs": [],
   "source": [
    "## Code to create PercentileTable\n",
    "ascii(\n",
    "  quantile(state[[\"Murder.Rate\"]], p=c(.05, .25, .5, .75, .95)),\n",
    "  include.rownames=FALSE, include.colnames=TRUE, digits=rep(2,5), align=rep(\"r\", 5), \n",
    "  caption=\"Percentiles of murder rate by state.\")"
   ]
  },
  {
   "cell_type": "markdown",
   "metadata": {},
   "source": [
    "### Boxplot\n",
    "\n",
    "The top and bottom of the box are the 75th and 25th percentiles, respectively. \n",
    "\n",
    "The median is shown by the horizontal line in the box. The dashed lines, referred to as whiskers"
   ]
  },
  {
   "cell_type": "code",
   "execution_count": null,
   "metadata": {
    "vscode": {
     "languageId": "r"
    }
   },
   "outputs": [],
   "source": [
    "## Code snippet 1.5\n",
    "boxplot(state[[\"Population\"]]/1000000, ylab=\"Population (millions)\")\n",
    "## Code for Figure 2\n",
    "png(filename=file.path(PSDS_PATH, \"figures\", \"psds_0102.png\"), width = 3, height=4, units='in', res=300)\n",
    "par(mar=c(0,4,0,0)+.1)\n",
    "boxplot(state[[\"Population\"]]/1000000, ylab=\"Population (millions)\")"
   ]
  },
  {
   "cell_type": "markdown",
   "metadata": {},
   "source": [
    "### Frequency tables\n",
    "\n",
    "A frequency table of a variable divides up the variable range into equally spaced segments and tells us how many values fall within each segment\n",
    "\n",
    "bin size: big enough to not be granular and small enough to preserve important features\n",
    "\n",
    "(the \"seq\" is like the \"linspace\" function in python)"
   ]
  },
  {
   "cell_type": "code",
   "execution_count": null,
   "metadata": {
    "vscode": {
     "languageId": "r"
    }
   },
   "outputs": [],
   "source": [
    "## Code snippet 1.6\n",
    "breaks <- seq(from=min(state[[\"Population\"]]), to=max(state[[\"Population\"]]), length=11)\n",
    "pop_freq <- cut(state[[\"Population\"]], breaks=breaks, right=TRUE, include.lowest = TRUE)\n",
    "state['PopFreq'] <- pop_freq\n",
    "table(pop_freq)"
   ]
  },
  {
   "cell_type": "code",
   "execution_count": null,
   "metadata": {
    "vscode": {
     "languageId": "r"
    }
   },
   "outputs": [],
   "source": [
    "## Code for FreqTable\n",
    "state_abb <- state %>%\n",
    "  arrange(Population) %>%\n",
    "  group_by(PopFreq) %>%\n",
    "  summarize(state = paste(Abbreviation, collapse=\",\"), .drop=FALSE) %>%\n",
    "  complete(PopFreq, fill=list(state='')) %>%\n",
    "  select(state) \n",
    "\n",
    "state_abb <- unlist(state_abb)\n",
    "\n",
    "lower_br <- formatC(breaks[1:10], format=\"d\", digits=0, big.mark=\",\")\n",
    "upper_br <- formatC(c(breaks[2:10]-1, breaks[11]), format=\"d\", digits=0, big.mark=\",\")\n",
    "\n",
    "pop_table <- data.frame(\"BinNumber\"=1:10,\n",
    "                        \"BinRange\"=paste(lower_br, upper_br, sep=\"-\"),\n",
    "                        \"Count\"=as.numeric(table(pop_freq)),\n",
    "                        \"States\"=state_abb)\n",
    "ascii(pop_table, include.rownames=FALSE, digits=c(0, 0, 0, 0), align=c(\"l\", \"r\", \"r\", \"l\"), \n",
    "      caption=\"A frequency table of population by state.\")"
   ]
  },
  {
   "cell_type": "markdown",
   "metadata": {},
   "source": [
    "### A histogram\n",
    "\n",
    "To visualize a frequence table\n",
    "\n",
    "Bins on the x-axis and data count on the y-axis"
   ]
  },
  {
   "cell_type": "code",
   "execution_count": null,
   "metadata": {
    "vscode": {
     "languageId": "r"
    }
   },
   "outputs": [],
   "source": [
    "## Code snippet 1.7\n",
    "hist(state[[\"Population\"]], breaks=breaks)\n",
    "## Code for Figure 3\n",
    "png(filename=file.path(PSDS_PATH, \"figures\", \"psds_0103.png\"),  width = 4, height=4, units='in', res=300)\n",
    "par(mar=c(4,4,0,0)+.1)\n",
    "pop_hist <- hist(state[[\"Population\"]], breaks=breaks,\n",
    "                 xlab=\"Population\", main=\"\")\n",
    "dev.off()"
   ]
  },
  {
   "cell_type": "markdown",
   "metadata": {},
   "source": [
    "### Density Plots\n",
    "\n",
    "Density plots are different from hist plots in that they are continous distribution\n",
    "\n",
    "First, plotting the histogram as a proportion (by \"freq=FALSE\" option).\n",
    "\n",
    "Then derive the density line.\n",
    "\n",
    "calculate the area below two points on the x-axis instead of counts in the bin.\n",
    "Note that the total area under the density curve = 1,\n",
    "\n",
    "Different functions used: over 20 R packages have offered a different solution."
   ]
  },
  {
   "cell_type": "code",
   "execution_count": null,
   "metadata": {
    "vscode": {
     "languageId": "r"
    }
   },
   "outputs": [],
   "source": [
    "## Code snippet 1.8\n",
    "hist(state[[\"Murder.Rate\"]], freq=FALSE )\n",
    "lines(density(state[[\"Murder.Rate\"]]), lwd=3, col=\"blue\")\n",
    "## Code for Figure 4\n",
    "png(filename=file.path(PSDS_PATH, \"figures\", \"psds_0104.png\"),  width = 4, height=4, units='in', res=300)\n",
    "par(mar=c(4,4,0,0)+.1)\n",
    "hist(state[[\"Murder.Rate\"]], freq=FALSE, xlab=\"Murder Rate (per 100,000)\", main=\"\" )\n",
    "lines(density(state[[\"Murder.Rate\"]]), lwd=3, col=\"blue\")\n",
    "dev.off()"
   ]
  },
  {
   "cell_type": "markdown",
   "metadata": {},
   "source": [
    "### Percentage of delayed flights by cause\n",
    "\n",
    "#### matrix\n",
    "\n",
    "it has data in 2 dimention and the names for cols and cols\n",
    "\n",
    "as.maxtrix: convert to matrix.\n",
    "\n",
    "coercing a vetor: produces a 1-d matrix and promotes the name of the vector as the rownames \n",
    "\n",
    "### bar chart\n",
    "\n",
    "bar chart: different categories, not continous\n",
    "\n",
    "histogram: continous\n",
    "\n",
    "### Pie chart\n",
    "\n",
    "alternative to the bar chart\n",
    "\n",
    "experts think they are less informative\n"
   ]
  },
  {
   "cell_type": "code",
   "execution_count": null,
   "metadata": {
    "vscode": {
     "languageId": "r"
    }
   },
   "outputs": [],
   "source": [
    "## Code for AirportDelays\n",
    "ascii(\n",
    "  100*as.matrix(dfw/sum(dfw)),\n",
    "  include.rownames=FALSE, include.colnames=TRUE, digits=rep(2,5), align=rep(\"r\", 5), \n",
    "  caption=\"Percentage of delays by cause at Dallas-Ft. Worth airport.\")\n",
    "\n",
    "barplot(as.matrix(dfw)/6, cex.axis = 0.8, cex.names = 0.7)\n",
    "## Code for figure 5\n",
    "png(filename=file.path(PSDS_PATH, \"figures\", \"psds_0105.png\"),  width = 4, height=4, units='in', res=300)\n",
    "par(mar=c(4, 4, 0, 1) + .1)\n",
    "dev.off()\n"
   ]
  },
  {
   "cell_type": "markdown",
   "metadata": {},
   "source": [
    "### Expectation\n",
    "\n",
    "### Probability\n",
    "\n",
    "From odd to probability\n",
    "\n",
    "if the odds that a team will win are 2 to 1, its probability of winning is 2/(2+1)\n",
    "= 2/3"
   ]
  },
  {
   "cell_type": "code",
   "execution_count": null,
   "metadata": {
    "vscode": {
     "languageId": "r"
    }
   },
   "outputs": [],
   "source": [
    "## Code for CorrTable (Table 1.7)\n",
    "telecom <- sp500_px[, sp500_sym[sp500_sym$sector==\"telecommunications_services\", 'symbol']]\n",
    "telecom <- telecom[row.names(telecom)>\"2012-07-01\", ]\n",
    "telecom_cor <- cor(telecom)\n",
    "ascii(telecom_cor, digits=c( 3,3,3,3,3), align=c(\"l\", \"r\", \"r\", \"r\", \"r\", \"r\"), caption=\"Correlation between telecommunication stock returns.\",\n",
    "      include.rownames = TRUE, include.colnames = TRUE)"
   ]
  },
  {
   "cell_type": "markdown",
   "metadata": {},
   "source": [
    "### correlation coefficient\n",
    "\n",
    "![](./01.png)\n",
    "\n",
    "The range of this value is in [-1, 1]\n",
    "\n",
    "(operator \"$\" uses the second variable as index for the first one.)\n",
    "\n",
    "serves to determine which component of the \"sp500_sym\" object is \"etf\".\n",
    "\n",
    "the correlation coefficient is sensitive to outliers in the data\n",
    "\n",
    "The R package robust uses the function covRob to compute a robust estimate.\n",
    "\n",
    "Other ways to compute the correlation estimates\n",
    "\n",
    "    Spearman's rho and Kendall's tau - uses rank and robust to outliers"
   ]
  },
  {
   "cell_type": "code",
   "execution_count": null,
   "metadata": {
    "vscode": {
     "languageId": "r"
    }
   },
   "outputs": [],
   "source": [
    "## Code snippet 1.10\n",
    "etfs <- sp500_px[row.names(sp500_px)>\"2012-07-01\", \n",
    "                 sp500_sym[sp500_sym$sector==\"etf\", 'symbol']]\n",
    "corrplot(cor(etfs), method = \"ellipse\")\n",
    "\n",
    "## Code for figure 6\n",
    "png(filename=file.path(PSDS_PATH, \"figures\", \"psds_0106.png\"), width = 4, height=4, units='in', res=300)\n",
    "etfs <- sp500_px[row.names(sp500_px)>\"2012-07-01\", sp500_sym[sp500_sym$sector==\"etf\", 'symbol']]\n",
    "library(corrplot)\n",
    "corrplot(cor(etfs), method = \"ellipse\")\n",
    "dev.off()"
   ]
  },
  {
   "cell_type": "markdown",
   "metadata": {},
   "source": [
    "### The scatter plot\n",
    "\n",
    "visualize the relation between two variables\n",
    "\n",
    "The x-axis represents one variable and the y-axis another\n",
    "\n",
    "(With this, we don't compute the correlation but see if there is a trend)\n",
    "\n",
    "upper-right and lower left: two variable have same trending\n",
    "\n",
    "upper-left and lower-right: one goes up and another goes down\n",
    "\n",
    "(So the ellipse plot is a version of what would be in the scatter plot)"
   ]
  },
  {
   "cell_type": "code",
   "execution_count": null,
   "metadata": {
    "vscode": {
     "languageId": "r"
    }
   },
   "outputs": [],
   "source": [
    "## Code snippet 1.11\n",
    "plot(telecom$T, telecom$VZ, xlab=\"T\", ylab=\"VZ\")\n",
    "\n",
    "## Code for Figure 7\n",
    "png(filename=file.path(PSDS_PATH, \"figures\", \"psds_0107.png\"),  width = 4, height=4, units='in', res=300)\n",
    "par(mar=c(4,4,0,1)+.1)\n",
    "plot(telecom$T, telecom$VZ, xlab=\"T\", ylab=\"VZ\", cex=.8)\n",
    "abline(h=0, v=0, col=\"grey\")\n",
    "dev.off()"
   ]
  },
  {
   "cell_type": "markdown",
   "metadata": {},
   "source": [
    "### Hexagonal binning and contours\n",
    "\n",
    "large dataset, scatter plot is not helpful anymore.\n",
    "\n",
    "relation between the squre feet and tax-assessed value\n",
    "\n",
    "dark cloud is shown instead of point, furthermore, it's regrouped into hexagonal showing counts in each one.\n",
    "\n",
    "results:\n",
    "\n",
    "* positve relation\n",
    "* additional band above: home with higher tax assessed value\n",
    "\n",
    "The \"stat_binhex\" function divides reggular plane into regular hexagons, counts the number of cases in each and then maps the sum.\n",
    "\n",
    "The \"subset\" is to remove the outliers and extract a subset of the dataset."
   ]
  },
  {
   "cell_type": "code",
   "execution_count": null,
   "metadata": {
    "vscode": {
     "languageId": "r"
    }
   },
   "outputs": [],
   "source": [
    "## Code snippet 1.12\n",
    "kc_tax0 <- subset(kc_tax, TaxAssessedValue < 750000 & SqFtTotLiving>100 &\n",
    "                  SqFtTotLiving<3500)\n",
    "nrow(kc_tax0)"
   ]
  },
  {
   "cell_type": "code",
   "execution_count": null,
   "metadata": {
    "vscode": {
     "languageId": "r"
    }
   },
   "outputs": [],
   "source": [
    "## Code snippet 1.13\n",
    "ggplot(kc_tax0, (aes(x=SqFtTotLiving, y=TaxAssessedValue))) + \n",
    "  stat_binhex(colour=\"white\") + \n",
    "  theme_bw() + \n",
    "  scale_fill_gradient(low=\"white\", high=\"black\") +\n",
    "  labs(x=\"Finished Square Feet\", y=\"Tax Assessed Value\")\n",
    "\n",
    "## Code for figure 8\n",
    "png(filename=file.path(PSDS_PATH, \"figures\", \"psds_0108.png\"),  width = 4, height=4, units='in', res=300)\n",
    "ggplot(kc_tax0, (aes(x=SqFtTotLiving, y=TaxAssessedValue))) + \n",
    "  stat_binhex(colour=\"white\") + \n",
    "  theme_bw() + \n",
    "  scale_fill_gradient(low=\"white\", high=\"black\") +\n",
    "  labs(x=\"Finished Square Feet\", y=\"Tax Assessed Value\")\n",
    "dev.off()"
   ]
  },
  {
   "cell_type": "markdown",
   "metadata": {},
   "source": [
    "The contour plot\n",
    "\n",
    "The \"peak\" on the contours indicate bands of the feature\n",
    "\n",
    "The \"geom_density2d\" function of ggplot2 is used to generate the plot."
   ]
  },
  {
   "cell_type": "code",
   "execution_count": null,
   "metadata": {
    "vscode": {
     "languageId": "r"
    }
   },
   "outputs": [],
   "source": [
    "## Code snippet 1.14\n",
    "ggplot(kc_tax0, aes(SqFtTotLiving, TaxAssessedValue)) +\n",
    "  theme_bw() + \n",
    "  geom_point( alpha=0.1) + \n",
    "  geom_density2d(colour=\"white\") + \n",
    "  labs(x=\"Finished Square Feet\", y=\"Tax Assessed Value\")\n",
    "\n",
    "## Code for figure 9\n",
    "\n",
    "png(filename=file.path(PSDS_PATH, \"figures\", \"psds_0109.png\"),  width = 4, height=4, units='in', res=300)\n",
    "ggplot(kc_tax0, aes(SqFtTotLiving, TaxAssessedValue)) +\n",
    "  theme_bw() + \n",
    "  geom_point(colour=\"blue\", alpha=0.1) + \n",
    "  geom_density2d(colour=\"white\") + \n",
    "  labs(x=\"Finished Square Feet\", y=\"Tax Assessed Value\")\n",
    "dev.off()"
   ]
  },
  {
   "cell_type": "markdown",
   "metadata": {},
   "source": [
    "### Contingency table\n",
    "\n",
    "To summarize two categorical variables\n",
    "\n",
    "shows the contingency table between the grade of a per\n",
    "sonal loan and the outcome of that loan\n",
    "\n",
    "The object \"lc_loans\" has too variables, one is the \"grade\" and the other is the \"status\" (fully paid, late, current, etc.)"
   ]
  },
  {
   "cell_type": "code",
   "execution_count": null,
   "metadata": {
    "vscode": {
     "languageId": "r"
    }
   },
   "outputs": [],
   "source": [
    "## Code snippet 1.15\n",
    "\n",
    "## Code for CrossTabs\n",
    "x_tab <- CrossTable(lc_loans$grade, lc_loans$status, \n",
    "                    prop.c=FALSE, prop.chisq=FALSE, prop.t=FALSE)\n",
    "\n",
    "tots <- cbind(row.names(x_tab$tab), format(cbind(x_tab$tab, x_tab$rs)))\n",
    "props <- cbind(\"\", format(cbind(x_tab$prop.row, x_tab$rs/x_tab$gt), digits=1))\n",
    "c_tot <- c(\"Total\", format(c(x_tab$cs, x_tab$gt)))\n",
    "\n",
    "asc_tab <- matrix(nrow=nrow(tots)*2+1, ncol=ncol(tots))\n",
    "colnames(asc_tab) <- c(\"Grade\", colnames(x_tab$tab), \"Total\")\n",
    "idx <- seq(1, nrow(asc_tab)-1, by=2)\n",
    "asc_tab[idx,] <- tots\n",
    "asc_tab[idx+1,] <- props\n",
    "asc_tab[nrow(asc_tab), ] <- c_tot\n",
    "\n",
    "ascii(asc_tab,  align=c(\"l\", \"r\", \"r\", \"r\", \"r\"), include.rownames = FALSE, include.colnames = TRUE)"
   ]
  },
  {
   "cell_type": "markdown",
   "metadata": {},
   "source": [
    "### Categorical data and box plot\n",
    "\n",
    "\"boxplot\" method could group numerical data with categorical data aand plot for each category."
   ]
  },
  {
   "cell_type": "code",
   "execution_count": null,
   "metadata": {
    "vscode": {
     "languageId": "r"
    }
   },
   "outputs": [],
   "source": [
    "## Code snippet 1.16\n",
    "boxplot(pct_carrier_delay ~ airline, data=airline_stats, ylim=c(0,50))\n",
    "\n",
    "## Code for figure 10\n",
    "png(filename=file.path(PSDS_PATH, \"figures\", \"psds_0110.png\"), width = 4, height=4, units='in', res=300)\n",
    "par(mar=c(4,4,0,0)+.1)\n",
    "boxplot(pct_carrier_delay ~ airline, data=airline_stats, ylim=c(0,50), cex.axis=.6,\n",
    "        ylab=\"Daily % of Delayed Flights\")\n",
    "\n",
    "dev.off()"
   ]
  },
  {
   "cell_type": "markdown",
   "metadata": {},
   "source": [
    "### The violin plot\n",
    "\n",
    "It flips the density and plot it horizontally.\n",
    "\n",
    "pro: it can show nuances in the distribution that aren’t perceptible in a boxplot\n",
    "\n",
    "con: the boxplot more clearly shows the outliers in the data"
   ]
  },
  {
   "cell_type": "code",
   "execution_count": null,
   "metadata": {
    "vscode": {
     "languageId": "r"
    }
   },
   "outputs": [],
   "source": [
    "## Code snippet 1.17\n",
    "\n",
    "ggplot(data=airline_stats, aes(airline, pct_carrier_delay))  + \n",
    "  ylim(0, 50) + \n",
    "  geom_violin() +\n",
    "  labs(x=\"\", y=\"Daily % of Delayed Flights\")\n",
    "\n",
    "## Code for figure 11\n",
    "png(filename=file.path(PSDS_PATH, \"figures\", \"psds_0111.png\"), width = 4, height=4, units='in', res=300)\n",
    "\n",
    "ggplot(data=airline_stats, aes(airline, pct_carrier_delay)) + \n",
    "  ylim(0, 50) + \n",
    "  geom_violin(draw_quantiles = c(.25, .5, .75), linetype=2) +\n",
    "  geom_violin(fill=NA, size=1.1) +\n",
    "  theme_bw() + \n",
    "  labs(x=\"\", y=\"% of Delayed Flights\")\n",
    "\n",
    "dev.off()"
   ]
  },
  {
   "cell_type": "markdown",
   "metadata": {},
   "source": [
    "### multiple category & correlation\n",
    "\n",
    "concept of \"facet\": a conditioning variable to wrap the data with\n",
    "(in this case, zip code)\n",
    "\n",
    "visualizing the different bands observed in previous plots."
   ]
  },
  {
   "cell_type": "code",
   "execution_count": null,
   "metadata": {
    "vscode": {
     "languageId": "r"
    }
   },
   "outputs": [],
   "source": [
    "## Code snippet 1.18\n",
    "\n",
    "ggplot(subset(kc_tax0, ZipCode %in% c(98188, 98105, 98108, 98126)),\n",
    "         aes(x=SqFtTotLiving, y=TaxAssessedValue)) + \n",
    "  stat_binhex(colour=\"white\") + \n",
    "  theme_bw() + \n",
    "  scale_fill_gradient( low=\"white\", high=\"black\") +\n",
    "  labs(x=\"Finished Square Feet\", y=\"Tax Assessed Value\") +\n",
    "  facet_wrap(\"ZipCode\")\n",
    "\n",
    "## Code for figure 12\n",
    "png(filename=file.path(PSDS_PATH, \"figures\", \"psds_0112.png\"), width = 5, height=4, units='in', res=300)\n",
    "\n",
    "ggplot(subset(kc_tax0, ZipCode %in% c(98188, 98105, 98108, 98126)),\n",
    "       aes(x=SqFtTotLiving, y=TaxAssessedValue)) + \n",
    "  stat_binhex(colour=\"white\") + \n",
    "  theme_bw() + \n",
    "  scale_fill_gradient( low=\"gray95\", high=\"blue\") +\n",
    "  labs(x=\"Finished Square Feet\", y=\"Tax Assessed Value\") +\n",
    "  facet_wrap(\"ZipCode\")\n",
    "dev.off()"
   ]
  }
 ],
 "metadata": {
  "kernelspec": {
   "display_name": "R",
   "language": "R",
   "name": "ir"
  },
  "language_info": {
   "codemirror_mode": "r",
   "file_extension": ".r",
   "mimetype": "text/x-r-source",
   "name": "R",
   "pygments_lexer": "r",
   "version": "4.3.1"
  }
 },
 "nbformat": 4,
 "nbformat_minor": 2
}
